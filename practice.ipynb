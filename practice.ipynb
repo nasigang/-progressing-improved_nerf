{
 "cells": [
  {
   "cell_type": "code",
   "execution_count": 5,
   "metadata": {},
   "outputs": [],
   "source": [
    "import numpy as np\n",
    "\n",
    "def get_sampled_coords( patch_h, patch_w, H, W):\n",
    "\n",
    "    sampled_coords = []                 \n",
    "\n",
    "    sample_x = np.random.choice(W-patch_w, size=[1])\n",
    "    sample_y = np.random.choice(H-patch_h, size=[1])\n",
    "    total_num = (W-patch_w) * (H-patch_h) \n",
    "    probs = []\n",
    "    \n",
    "    for i in range(patch_h):\n",
    "        for j in range(patch_w):\n",
    "            sampled_coords.append([i, j])\n",
    "            total_num = total_num + max(patch_h-i, patch_w-j)\n",
    "    for i in range(H-2*patch_h, H-patch_h):\n",
    "        for j in range(W-2*patch_w, W-patch_w):\n",
    "            sampled_coords.append([i, j])\n",
    "            total_num = total_num + max(i + 2 * patch_h - H + 1, j + 2 * patch_w - W + 1)\n",
    "\n",
    "\n",
    "    for i in range(patch_h):\n",
    "        for j in range(patch_w):\n",
    "            temp = max(patch_h-i, patch_w-j) / total_num\n",
    "            probs.append(temp)            \n",
    "    for i in range(H-2*patch_h, H-patch_h):\n",
    "        for j in range(W-2*patch_w, W-patch_w):\n",
    "            temp = max(i + 2 * patch_h - H + 1, j + 2 * patch_w - W + 1) / total_num\n",
    "            probs.append(temp)\n",
    "            \n",
    "    sampled_coords.append([sample_y[0], sample_x[0]])\n",
    "    temp = (W-patch_w) * (H-patch_h) / total_num\n",
    "    probs.append(temp)\n",
    "    \n",
    "    return sampled_coords, probs"
   ]
  },
  {
   "cell_type": "code",
   "execution_count": 8,
   "metadata": {},
   "outputs": [
    {
     "name": "stdout",
     "output_type": "stream",
     "text": [
      "2049\n",
      "2049\n"
     ]
    }
   ],
   "source": [
    "patch_h, patch_w, h, w = 32, 32, 200, 200\n",
    "coords, probs = get_sampled_coords(patch_h, patch_w, h, w)\n",
    "\n",
    "print(len(coords))\n",
    "print(len(probs))"
   ]
  },
  {
   "cell_type": "code",
   "execution_count": null,
   "metadata": {},
   "outputs": [],
   "source": [
    "def get_sample_rect( patch_h, patch_w, mask_rect, coords, probs):\n",
    "      \n",
    "    final_selected_inds = np.random.choice(len(coords), size=[1], p=probs) \n",
    "    sample_x = coords[final_selected_inds[0]][1]\n",
    "    sample_y = coords[final_selected_inds[0]][0]\n",
    "    sampled_coords = []\n",
    "    for i in range(patch_h):\n",
    "        for j in range(patch_w):\n",
    "            sampled_coords.append([sample_y + i, sample_x + j])\n",
    "    sampled_coords = np.array(sampled_coords)\n",
    "    sampled_coords = torch.Tensor(sampled_coords).to(device) # [rect_w*rect_w, 2]\n",
    "    if (sample_x >= mask_rect[0]) and (sample_y >= mask_rect[1]): \n",
    "        ssim_mask = True\n",
    "    else:\n",
    "        ssim_mask = False\n",
    "    if (mask_rect[0] + mask_rect[2] >= sample_x + patch_w) and (mask_rect[1] + mask_rect[3] >= sample_y + patch_h): \n",
    "        ssim_mask = ssim_mask and True\n",
    "    else:\n",
    "        ssim_mask = False\n",
    "            \n",
    "    return sampled_coords, ssim_mask"
   ]
  },
  {
   "cell_type": "code",
   "execution_count": 10,
   "metadata": {},
   "outputs": [
    {
     "name": "stdout",
     "output_type": "stream",
     "text": [
      "[[[ 0.  0.]\n",
      "  [ 1.  0.]\n",
      "  [ 2.  0.]\n",
      "  ...\n",
      "  [29.  0.]\n",
      "  [30.  0.]\n",
      "  [31.  0.]]\n",
      "\n",
      " [[ 0.  1.]\n",
      "  [ 1.  1.]\n",
      "  [ 2.  1.]\n",
      "  ...\n",
      "  [29.  1.]\n",
      "  [30.  1.]\n",
      "  [31.  1.]]\n",
      "\n",
      " [[ 0.  2.]\n",
      "  [ 1.  2.]\n",
      "  [ 2.  2.]\n",
      "  ...\n",
      "  [29.  2.]\n",
      "  [30.  2.]\n",
      "  [31.  2.]]\n",
      "\n",
      " ...\n",
      "\n",
      " [[ 0. 29.]\n",
      "  [ 1. 29.]\n",
      "  [ 2. 29.]\n",
      "  ...\n",
      "  [29. 29.]\n",
      "  [30. 29.]\n",
      "  [31. 29.]]\n",
      "\n",
      " [[ 0. 30.]\n",
      "  [ 1. 30.]\n",
      "  [ 2. 30.]\n",
      "  ...\n",
      "  [29. 30.]\n",
      "  [30. 30.]\n",
      "  [31. 30.]]\n",
      "\n",
      " [[ 0. 31.]\n",
      "  [ 1. 31.]\n",
      "  [ 2. 31.]\n",
      "  ...\n",
      "  [29. 31.]\n",
      "  [30. 31.]\n",
      "  [31. 31.]]]\n"
     ]
    }
   ],
   "source": [
    "H, W = 32, 32\n",
    "coords = np.stack(np.meshgrid(np.linspace(0, H-1, H), np.linspace(0, W-1, W)), -1)  # (H, W, 2)\n",
    "print(coords)"
   ]
  },
  {
   "cell_type": "code",
   "execution_count": 12,
   "metadata": {},
   "outputs": [
    {
     "name": "stdout",
     "output_type": "stream",
     "text": [
      "[[1, 2, 3, 4, 1, 2, 3], [5, 2, 4, 5, 4, 5, 6]]\n"
     ]
    }
   ],
   "source": [
    "# a = np.array([[1,2,3,4],[5,2,4,5]])\n",
    "# b = np.array([[1,2,3],[4,5,6],[7,7,8]])\n",
    "\n",
    "# rays = np.cat([a,b],-1)\n",
    "\n",
    "a = [[1,2,3,4],[5,2,4,5]]\n",
    "b = [[1,2,3],[4,5,6],[7,7,8]]\n",
    "\n",
    "rays = []\n",
    "for i in range(len(a)):\n",
    "    rays.append(a[i] + b[i])\n",
    "\n",
    "print(rays)\n"
   ]
  },
  {
   "cell_type": "code",
   "execution_count": null,
   "metadata": {},
   "outputs": [],
   "source": []
  }
 ],
 "metadata": {
  "kernelspec": {
   "display_name": "additionalClass",
   "language": "python",
   "name": "python3"
  },
  "language_info": {
   "codemirror_mode": {
    "name": "ipython",
    "version": 3
   },
   "file_extension": ".py",
   "mimetype": "text/x-python",
   "name": "python",
   "nbconvert_exporter": "python",
   "pygments_lexer": "ipython3",
   "version": "3.9.15"
  }
 },
 "nbformat": 4,
 "nbformat_minor": 2
}
